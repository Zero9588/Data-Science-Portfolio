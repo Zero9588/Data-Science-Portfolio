{
 "cells": [
  {
   "cell_type": "markdown",
   "id": "e9ec53cc",
   "metadata": {},
   "source": [
    "# README: Analysis of an E-commerce Dataset Part 2\n",
    "This document provides an overview of the analysis conducted on an E-commerce dataset, focusing on training linear regression models to predict user ratings towards items. The analysis encompasses several steps from data exploration to result analysis.\n",
    "\n",
    "## Installation Instructions\n",
    "\n",
    "Ensure you have the following libraries installed for Python:\n",
    "- pandas\n",
    "- numpy\n",
    "- scikit-learn\n",
    "- seaborn\n",
    "- matplotlib\n",
    "\n",
    "## Data Description\n",
    "The dataset, named 'cleaned_ecommerce_dataset.csv', contains various pieces of information about user-item interactions, including user and item identifiers, user ratings, and other features like helpfulness, gender, and category of items.\n",
    "\n",
    "## Data Analysis\n",
    "The dataset is imported, and its total length is printed to have an idea of the size of the data.\n",
    "\n",
    "## Explore the Dataset\n",
    "Basic data exploration methods are used to have a rough picture of the data like the number of columns and the data types of each column. The correlations between certain features and user ratings are also computed.\n",
    "\n",
    "## Split and Train the Dataset Using Linear Regression\n",
    "The dataset is split into training and testing sets under two different scenarios to understand the impact of the amount of training data on model performance. Linear regression models are trained under different conditions concerning feature selection based on correlation magnitude.\n",
    "\n",
    "## Evaluation of Models\n",
    "The models are evaluated using Mean Squared Error (MSE) and Root Mean Squared Error (RMSE) metrics. The results are printed for each model.\n",
    "\n",
    "## Analyse the Results\n",
    "The results are visualized using bar charts to compare the performance of models under different conditions. Insights are derived from the observed performance metrics, and the impact of feature selection and amount of training data on model performance is discussed."
   ]
  },
  {
   "cell_type": "code",
   "execution_count": null,
   "id": "d5bec2a1",
   "metadata": {},
   "outputs": [],
   "source": []
  }
 ],
 "metadata": {
  "kernelspec": {
   "display_name": "Python 3 (ipykernel)",
   "language": "python",
   "name": "python3"
  },
  "language_info": {
   "codemirror_mode": {
    "name": "ipython",
    "version": 3
   },
   "file_extension": ".py",
   "mimetype": "text/x-python",
   "name": "python",
   "nbconvert_exporter": "python",
   "pygments_lexer": "ipython3",
   "version": "3.11.3"
  }
 },
 "nbformat": 4,
 "nbformat_minor": 5
}
