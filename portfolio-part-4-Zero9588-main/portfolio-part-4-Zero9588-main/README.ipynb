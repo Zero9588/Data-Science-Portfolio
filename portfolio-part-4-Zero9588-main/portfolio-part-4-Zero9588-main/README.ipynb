{
 "cells": [
  {
   "cell_type": "markdown",
   "id": "2bd3ef6e",
   "metadata": {},
   "source": [
    "# Student Performance Prediction\n",
    "## Project Overview\n",
    "This project aims to analyze a dataset of 10,000 student records to explore if a student's Performance Index can be predicted from various variables such as study history, hours of sleep, and hours of study. The dataset comprises various predictors along with the Performance Index which is to be predicted.\n",
    "\n",
    "## Research Questions\n",
    "Can a student's Performance Index be determined from key variables like study history, sleep hours, and hours of study?\n",
    "\n",
    "## Libraries Used\n",
    "- numpy\n",
    "- pandas \n",
    "- matplotlib\n",
    "- seaborn\n",
    "- sklearn\n",
    "\n",
    "## Dataset\n",
    "Import the dataset named \"Student_Performance.csv\"\n",
    "\n",
    "The dataset includes the following columns:\n",
    "- Hours Studied\n",
    "- Previous Scores\n",
    "- Extracurricular Activities\n",
    "- Sleep Hours\n",
    "- Sample Question Papers Practiced\n",
    "- Performance Index\n",
    "\n",
    "## Data Analysis and Visualisation\n",
    "Initial steps include examining the first few records, checking for missing values, and generating a statistical summary to understand the basic properties of the data.\n",
    "\n",
    "A variety of visualisations are created to explore the relationships between the different variables. For instance, a scatter plot elucidates the relationship between the hours studied and the performance index.\n",
    "\n",
    "## Linear Regression\n",
    "### Training the Data\n",
    "The dataset is split into independent and dependent variables, further partitioned into training and test sets. A categorical column, 'Extracurricular Activities', is label encoded to facilitate the training of a Simple Linear Regression Model.\n",
    "\n",
    "### Evaluating the Results\n",
    "Post training, the model's performance is evaluated on the test set. Metrics like Mean Squared Error and R-squared are computed to gauge the model's accuracy and goodness of fit.\n",
    "\n",
    "## Clustering\n",
    "The kMeans clustering technique is applied to the numerical data, aiming to uncover inherent groupings based on the variables.\n",
    "\n",
    "### Analysis\n",
    "The clusters are analysed to derive insights into the trends and relationships among the variables. For instance, scatter plots depict how the hours studied and previous scores correlate with the performance index across different clusters.\n",
    "\n",
    "## Conclusion\n",
    "The analysis divulges how study hours, previous scores, and other factors correlate with the performance index. Clustering reveals four distinct groups, each showcasing a unique trend in how study habits relate to performance."
   ]
  }
 ],
 "metadata": {
  "kernelspec": {
   "display_name": "Python 3 (ipykernel)",
   "language": "python",
   "name": "python3"
  },
  "language_info": {
   "codemirror_mode": {
    "name": "ipython",
    "version": 3
   },
   "file_extension": ".py",
   "mimetype": "text/x-python",
   "name": "python",
   "nbconvert_exporter": "python",
   "pygments_lexer": "ipython3",
   "version": "3.11.3"
  }
 },
 "nbformat": 4,
 "nbformat_minor": 5
}
