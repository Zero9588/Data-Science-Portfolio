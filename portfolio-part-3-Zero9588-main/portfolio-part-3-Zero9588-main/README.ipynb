{
 "cells": [
  {
   "cell_type": "markdown",
   "id": "8bba4b3d",
   "metadata": {},
   "source": [
    "# Analysis of an E-commerce Dataset Part 3\n",
    "\n",
    "## Description\n",
    "In this Portfolio task, we continue analysing the dataset from Portfolio 2, focusing on predicting user preferences (like/dislike) based on various item and user features using Logistic Regression and KNN (K-Nearest Neighbors) models.\n",
    "\n",
    "## Installation Instructions\n",
    "\n",
    "Ensure the Python environment has the following libraries installed:\n",
    "- pandas\n",
    "- sklearn\n",
    "\n",
    "## Data Description\n",
    "The dataset, portfolio_3.csv, comprises various user-item interaction data, including:\n",
    "\n",
    "- userId: User identifier\n",
    "- timestamp: Timestamp of the review\n",
    "- review: Text review\n",
    "- item: Item name\n",
    "- helpfulness: Helpfulness rating\n",
    "- gender: User gender\n",
    "- category: Item category\n",
    "- item_id: Item identifier\n",
    "- item_price: Item price\n",
    "- user_city: User city code\n",
    "- rating: Rating indicating like (1) or dislike (0)\n",
    "\n",
    "## Explore Data and Cleaning\n",
    "Load the dataset and inspect its structure to identify any anomalies or missing values. Clean the data by handling missing values and removing abnormal instances.\n",
    "\n",
    "## Converting Object Features to Numeric\n",
    "Encode categorical features like review, item, gender, and category into numeric values using an Ordinal Encoder.\n",
    "\n",
    "## Correlation Analysis\n",
    "Perform correlation analysis to identify relationships between features.\n",
    "\n",
    "## Split the Dataset\n",
    "Split the dataset into training and testing sets for model training and evaluation.\n",
    "\n",
    "## Train a Logistic Regression Model\n",
    "Train a Logistic Regression model to predict rating based on other features. Evaluate the model's accuracy. Utilise Recursive Feature Elimination (RFE) to select significant features and retrain the Logistic Regression model.\n",
    "\n",
    "## Train a KNN Model\n",
    "Train a KNN model with an ad-hoc choice of K to predict rating based on selected features. Evaluate the model's accuracy.\n",
    "\n",
    "## Tune the Hyper-Parameter K in KNN\n",
    "Tune the hyper-parameter K in KNN using Grid Search to find the optimal value for K that improves the model's prediction performance.\n",
    "\n",
    "## Results\n",
    "The initial Logistic Regression model achieved an accuracy of 63.69% which slightly improved to 64.43% with feature selection. The KNN model matched the Logistic Regression model's performance with an accuracy of 64.43%. Hyper-parameter tuning in KNN revealed that K=22 yielded the highest cross-validation score of 74.54%."
   ]
  }
 ],
 "metadata": {
  "kernelspec": {
   "display_name": "Python 3 (ipykernel)",
   "language": "python",
   "name": "python3"
  },
  "language_info": {
   "codemirror_mode": {
    "name": "ipython",
    "version": 3
   },
   "file_extension": ".py",
   "mimetype": "text/x-python",
   "name": "python",
   "nbconvert_exporter": "python",
   "pygments_lexer": "ipython3",
   "version": "3.11.3"
  }
 },
 "nbformat": 4,
 "nbformat_minor": 5
}
