{
 "cells": [
  {
   "cell_type": "markdown",
   "id": "f3868343",
   "metadata": {},
   "source": [
    "# README: Analysis of an E-commerce Dataset\n",
    "## Description\n",
    "This project delves into the exploration and analysis of a combined e-commerce dataset. It comprises user-generated ratings and reviews for various products, along with additional evaluations by other users in the form of trust or distrust. Each entry in the dataset encompasses user profile details, product information, rating and review specifics, and more. The collected data from diverse sources is aggregated into a single CSV file titled 'A Combined E-commerce Dataset.csv'.\n",
    "\n",
    "Open \"Portfolio_1_questions.ipynb\" and run the cells to proceed with the analysis.\n",
    "\n",
    "## Data Description\n",
    "The dataset comprises the following fields:\n",
    "\n",
    "- userId - the user's id\n",
    "- gender - the user's gender\n",
    "- rating - the user's rating towards the item\n",
    "- review - the user's review towards the item\n",
    "- item - the item's name\n",
    "- category - the category of the item\n",
    "- helpfulness - the average helpfulness of this rating\n",
    "- timestamp - the timestamp when the rating is created\n",
    "- item_id - the item's id\n",
    "- item_price - the item's price\n",
    "- user_city - the city of user's birth\n",
    "\n",
    "## Exploratory Data Analysis\n",
    "The analysis comprises several steps including cleaning the data, exploring descriptive statistics, plotting, and analyzing the correlations among different variables like gender, helpfulness, category, and ratings.\n",
    "\n",
    "## Outlier Detection and Removal\n",
    "The dataset is further refined by detecting and removing outliers based on predefined criteria. The number of records before and after the outlier removal is reported."
   ]
  },
  {
   "cell_type": "code",
   "execution_count": null,
   "id": "94ec4b7e",
   "metadata": {},
   "outputs": [],
   "source": []
  }
 ],
 "metadata": {
  "kernelspec": {
   "display_name": "Python 3 (ipykernel)",
   "language": "python",
   "name": "python3"
  },
  "language_info": {
   "codemirror_mode": {
    "name": "ipython",
    "version": 3
   },
   "file_extension": ".py",
   "mimetype": "text/x-python",
   "name": "python",
   "nbconvert_exporter": "python",
   "pygments_lexer": "ipython3",
   "version": "3.11.3"
  }
 },
 "nbformat": 4,
 "nbformat_minor": 5
}
