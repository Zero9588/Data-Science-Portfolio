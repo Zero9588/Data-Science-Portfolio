{
 "cells": [
  {
   "cell_type": "markdown",
   "id": "774e2e30",
   "metadata": {},
   "source": [
    "# Analysis of an E-commerce Dataset\n",
    "We have been provided with a combined e-commerce dataset. In this dataset, each user has the ability to post a rating and review for the products they purchased. Additionally, other users can evaluate the initial rating and review by expressing their trust or distrust.\n",
    "\n",
    "This dataset includes a wealth of information for each user. Details such as their profile, ID, gender, city of birth, product ratings (on a scale of 1-5), reviews, and the prices of the products they purchased are all included. Moreover, for each product rating, we have information about the product name, ID, price, and category, the rating score, the timestamp of the rating and review, and the average helpfulness of the rating given by others (on a scale of 1-5).\n",
    "\n",
    "The dataset is from several data sources, and we have merged all the data into a single CSV file named 'A Combined E-commerce Dataset.csv'. The structure of this dataset is represented in the header shown below.\n",
    "    \n",
    "#### Description of Fields\n",
    "\n",
    "* __userId__ - the user's id\n",
    "* __gender__ - the user's gender\n",
    "* __rating__ - the user's rating towards the item\n",
    "* __review__ - the user's review towards the item\n",
    "* __item__ - the item's name\n",
    "* __category__ - the category of the item\n",
    "* __helpfulness__ - the average helpfulness of this rating\n",
    "* __timestamp__ - the timestamp when the rating is created\n",
    "* __item_id__ - the item's id\n",
    "* __item_price__ - the item's price\n",
    "* __user_city__ - the city of user's birth\n",
    "\n",
    "Note that, a user may rate multiple items and an item may receive ratings and reviews from multiple users. The \"helpfulness\" is an average value based on all the helpfulness values given by others.\n",
    "\n",
    "There are four questions to explore with the data as shown below.\n",
    "\n",
    "\n",
    "\n",
    "<img src=\"Fig1 The Combined E commerce Dataset.png\" align=\"left\" width=\"400\"/>\n"
   ]
  },
  {
   "cell_type": "markdown",
   "id": "f3bdbb77",
   "metadata": {},
   "source": [
    "## 1. Remove missing data"
   ]
  },
  {
   "cell_type": "code",
   "execution_count": 1,
   "id": "5315c0fb",
   "metadata": {},
   "outputs": [],
   "source": [
    "#import library\n",
    "import pandas as pd\n",
    "import matplotlib.pyplot as plt"
   ]
  },
  {
   "cell_type": "code",
   "execution_count": 2,
   "id": "df488a4f",
   "metadata": {},
   "outputs": [
    {
     "data": {
      "text/plain": [
       "(2685, 12)"
      ]
     },
     "execution_count": 2,
     "metadata": {},
     "output_type": "execute_result"
    }
   ],
   "source": [
    "# Load CSV data into the notebook\n",
    "df = pd.read_csv('The E-commerce Dataset.csv')\n",
    "df.shape"
   ]
  },
  {
   "cell_type": "code",
   "execution_count": 3,
   "id": "cfde9d8b",
   "metadata": {},
   "outputs": [
    {
     "name": "stdout",
     "output_type": "stream",
     "text": [
      "Unnamed: 0     0\n",
      "userId         0\n",
      "timestamp      0\n",
      "review         0\n",
      "item           0\n",
      "rating         0\n",
      "helpfulness    0\n",
      "gender         0\n",
      "category       0\n",
      "item_id        0\n",
      "item_price     0\n",
      "user_city      0\n",
      "dtype: int64\n"
     ]
    }
   ],
   "source": [
    "# Number of null values\n",
    "print(df.isnull().sum())"
   ]
  },
  {
   "cell_type": "code",
   "execution_count": 4,
   "id": "2573b54a",
   "metadata": {},
   "outputs": [
    {
     "data": {
      "text/plain": [
       "(2685, 12)"
      ]
     },
     "execution_count": 4,
     "metadata": {},
     "output_type": "execute_result"
    }
   ],
   "source": [
    "# Before cleaning\n",
    "df.shape"
   ]
  },
  {
   "cell_type": "markdown",
   "id": "371bea7c",
   "metadata": {},
   "source": [
    "## Data Cleaning"
   ]
  },
  {
   "cell_type": "code",
   "execution_count": 5,
   "id": "951ac922",
   "metadata": {},
   "outputs": [
    {
     "name": "stdout",
     "output_type": "stream",
     "text": [
      "Total values after removing empty values of gender, rating & helpfulness =  (2685, 12)\n",
      "Total values after 'none' values removed =  (2685, 12)\n"
     ]
    }
   ],
   "source": [
    "# Dropping missing values of gender/rating/helpfulness\n",
    "temp_df = df.dropna()\n",
    "print('Total values after removing empty values of gender, rating & helpfulness = ',temp_df.shape)\n",
    "\n",
    "# Clean 'none' reviews\n",
    "clean_df = temp_df[temp_df['review'] != 'none']\n",
    "print(\"Total values after 'none' values removed = \", clean_df.shape)"
   ]
  },
  {
   "cell_type": "code",
   "execution_count": 6,
   "id": "b8128471",
   "metadata": {},
   "outputs": [
    {
     "name": "stdout",
     "output_type": "stream",
     "text": [
      "Total number of values after cleaning is complete = (2685, 12)\n"
     ]
    }
   ],
   "source": [
    "# After cleaning\n",
    "print('Total number of values after cleaning is complete =', clean_df.shape)"
   ]
  },
  {
   "cell_type": "markdown",
   "id": "a04e9b10",
   "metadata": {},
   "source": [
    "## 2. Descriptive statistics\n",
    "\n",
    "With the cleaned data here's a data summarization below:"
   ]
  },
  {
   "cell_type": "markdown",
   "id": "57f0cd15",
   "metadata": {},
   "source": [
    "### 2.1 total number of unique users, unique reviews, unique items, and unique categories"
   ]
  },
  {
   "cell_type": "code",
   "execution_count": 7,
   "id": "76c853fe",
   "metadata": {},
   "outputs": [
    {
     "name": "stdout",
     "output_type": "stream",
     "text": [
      "Number of Unique Users: 267\n",
      "Number of Unique Reviews: 2675\n",
      "Number of Unique Items: 82\n",
      "Number of Unique Categories: 9\n"
     ]
    }
   ],
   "source": [
    "print('Number of Unique Users:', len(clean_df['userId'].unique()))\n",
    "print('Number of Unique Reviews:', len(clean_df['review'].unique()))\n",
    "print('Number of Unique Items:', len(clean_df['item_id'].unique()))\n",
    "print('Number of Unique Categories:', len(clean_df['category'].unique()))"
   ]
  },
  {
   "cell_type": "markdown",
   "id": "83646e98",
   "metadata": {},
   "source": [
    "### 2.2 descriptive statistics, e.g., the total number, mean, std, min and max regarding all rating records"
   ]
  },
  {
   "cell_type": "code",
   "execution_count": 8,
   "id": "d6cb4f57",
   "metadata": {},
   "outputs": [
    {
     "data": {
      "text/html": [
       "<div>\n",
       "<style scoped>\n",
       "    .dataframe tbody tr th:only-of-type {\n",
       "        vertical-align: middle;\n",
       "    }\n",
       "\n",
       "    .dataframe tbody tr th {\n",
       "        vertical-align: top;\n",
       "    }\n",
       "\n",
       "    .dataframe thead th {\n",
       "        text-align: right;\n",
       "    }\n",
       "</style>\n",
       "<table border=\"1\" class=\"dataframe\">\n",
       "  <thead>\n",
       "    <tr style=\"text-align: right;\">\n",
       "      <th></th>\n",
       "      <th>index</th>\n",
       "      <th>count</th>\n",
       "    </tr>\n",
       "  </thead>\n",
       "  <tbody>\n",
       "    <tr>\n",
       "      <th>0</th>\n",
       "      <td>count</td>\n",
       "      <td>2685.000000</td>\n",
       "    </tr>\n",
       "    <tr>\n",
       "      <th>1</th>\n",
       "      <td>mean</td>\n",
       "      <td>3.705028</td>\n",
       "    </tr>\n",
       "    <tr>\n",
       "      <th>2</th>\n",
       "      <td>std</td>\n",
       "      <td>1.346240</td>\n",
       "    </tr>\n",
       "    <tr>\n",
       "      <th>3</th>\n",
       "      <td>min</td>\n",
       "      <td>1.000000</td>\n",
       "    </tr>\n",
       "    <tr>\n",
       "      <th>4</th>\n",
       "      <td>25%</td>\n",
       "      <td>3.000000</td>\n",
       "    </tr>\n",
       "    <tr>\n",
       "      <th>5</th>\n",
       "      <td>50%</td>\n",
       "      <td>4.000000</td>\n",
       "    </tr>\n",
       "    <tr>\n",
       "      <th>6</th>\n",
       "      <td>75%</td>\n",
       "      <td>5.000000</td>\n",
       "    </tr>\n",
       "    <tr>\n",
       "      <th>7</th>\n",
       "      <td>max</td>\n",
       "      <td>5.000000</td>\n",
       "    </tr>\n",
       "  </tbody>\n",
       "</table>\n",
       "</div>"
      ],
      "text/plain": [
       "   index        count\n",
       "0  count  2685.000000\n",
       "1   mean     3.705028\n",
       "2    std     1.346240\n",
       "3    min     1.000000\n",
       "4    25%     3.000000\n",
       "5    50%     4.000000\n",
       "6    75%     5.000000\n",
       "7    max     5.000000"
      ]
     },
     "execution_count": 8,
     "metadata": {},
     "output_type": "execute_result"
    }
   ],
   "source": [
    "clean_df['rating'].describe().reset_index(name='count')"
   ]
  },
  {
   "cell_type": "markdown",
   "id": "b0564895",
   "metadata": {},
   "source": [
    "### 2.3 descriptive statistics, e.g., mean, std, max, and min of the number of items rated by different genders \n"
   ]
  },
  {
   "cell_type": "code",
   "execution_count": 9,
   "id": "275c5a71",
   "metadata": {},
   "outputs": [
    {
     "data": {
      "text/html": [
       "<div>\n",
       "<style scoped>\n",
       "    .dataframe tbody tr th:only-of-type {\n",
       "        vertical-align: middle;\n",
       "    }\n",
       "\n",
       "    .dataframe tbody tr th {\n",
       "        vertical-align: top;\n",
       "    }\n",
       "\n",
       "    .dataframe thead th {\n",
       "        text-align: right;\n",
       "    }\n",
       "</style>\n",
       "<table border=\"1\" class=\"dataframe\">\n",
       "  <thead>\n",
       "    <tr style=\"text-align: right;\">\n",
       "      <th></th>\n",
       "      <th>count</th>\n",
       "      <th>mean</th>\n",
       "      <th>std</th>\n",
       "      <th>min</th>\n",
       "      <th>25%</th>\n",
       "      <th>50%</th>\n",
       "      <th>75%</th>\n",
       "      <th>max</th>\n",
       "    </tr>\n",
       "    <tr>\n",
       "      <th>gender</th>\n",
       "      <th></th>\n",
       "      <th></th>\n",
       "      <th></th>\n",
       "      <th></th>\n",
       "      <th></th>\n",
       "      <th></th>\n",
       "      <th></th>\n",
       "      <th></th>\n",
       "    </tr>\n",
       "  </thead>\n",
       "  <tbody>\n",
       "    <tr>\n",
       "      <th>F</th>\n",
       "      <td>1278.0</td>\n",
       "      <td>3.753521</td>\n",
       "      <td>1.346523</td>\n",
       "      <td>1.0</td>\n",
       "      <td>3.0</td>\n",
       "      <td>4.0</td>\n",
       "      <td>5.0</td>\n",
       "      <td>5.0</td>\n",
       "    </tr>\n",
       "    <tr>\n",
       "      <th>M</th>\n",
       "      <td>1407.0</td>\n",
       "      <td>3.660981</td>\n",
       "      <td>1.344947</td>\n",
       "      <td>1.0</td>\n",
       "      <td>3.0</td>\n",
       "      <td>4.0</td>\n",
       "      <td>5.0</td>\n",
       "      <td>5.0</td>\n",
       "    </tr>\n",
       "  </tbody>\n",
       "</table>\n",
       "</div>"
      ],
      "text/plain": [
       "         count      mean       std  min  25%  50%  75%  max\n",
       "gender                                                     \n",
       "F       1278.0  3.753521  1.346523  1.0  3.0  4.0  5.0  5.0\n",
       "M       1407.0  3.660981  1.344947  1.0  3.0  4.0  5.0  5.0"
      ]
     },
     "execution_count": 9,
     "metadata": {},
     "output_type": "execute_result"
    }
   ],
   "source": [
    "clean_df.groupby(['gender'])['rating'].count().reset_index(name='count')\n",
    "clean_df.groupby(['gender'])['rating'].describe()"
   ]
  },
  {
   "cell_type": "markdown",
   "id": "e4a1a208",
   "metadata": {},
   "source": [
    "### 2.4 descriptive statistics, e.g., mean, std, max, min of the number of ratings that received by each items\n"
   ]
  },
  {
   "cell_type": "code",
   "execution_count": 10,
   "id": "a2efca86",
   "metadata": {},
   "outputs": [
    {
     "data": {
      "text/html": [
       "<div>\n",
       "<style scoped>\n",
       "    .dataframe tbody tr th:only-of-type {\n",
       "        vertical-align: middle;\n",
       "    }\n",
       "\n",
       "    .dataframe tbody tr th {\n",
       "        vertical-align: top;\n",
       "    }\n",
       "\n",
       "    .dataframe thead th {\n",
       "        text-align: right;\n",
       "    }\n",
       "</style>\n",
       "<table border=\"1\" class=\"dataframe\">\n",
       "  <thead>\n",
       "    <tr style=\"text-align: right;\">\n",
       "      <th></th>\n",
       "      <th>count</th>\n",
       "      <th>mean</th>\n",
       "      <th>std</th>\n",
       "      <th>min</th>\n",
       "      <th>25%</th>\n",
       "      <th>50%</th>\n",
       "      <th>75%</th>\n",
       "      <th>max</th>\n",
       "    </tr>\n",
       "    <tr>\n",
       "      <th>item</th>\n",
       "      <th></th>\n",
       "      <th></th>\n",
       "      <th></th>\n",
       "      <th></th>\n",
       "      <th></th>\n",
       "      <th></th>\n",
       "      <th></th>\n",
       "      <th></th>\n",
       "    </tr>\n",
       "  </thead>\n",
       "  <tbody>\n",
       "    <tr>\n",
       "      <th>AOL (America Online)</th>\n",
       "      <td>93.0</td>\n",
       "      <td>2.709677</td>\n",
       "      <td>1.410987</td>\n",
       "      <td>1.0</td>\n",
       "      <td>1.0</td>\n",
       "      <td>3.0</td>\n",
       "      <td>4.0</td>\n",
       "      <td>5.0</td>\n",
       "    </tr>\n",
       "    <tr>\n",
       "      <th>All Advantage</th>\n",
       "      <td>72.0</td>\n",
       "      <td>2.958333</td>\n",
       "      <td>1.656719</td>\n",
       "      <td>1.0</td>\n",
       "      <td>1.0</td>\n",
       "      <td>3.0</td>\n",
       "      <td>5.0</td>\n",
       "      <td>5.0</td>\n",
       "    </tr>\n",
       "    <tr>\n",
       "      <th>Amazon.com</th>\n",
       "      <td>18.0</td>\n",
       "      <td>4.333333</td>\n",
       "      <td>0.970143</td>\n",
       "      <td>2.0</td>\n",
       "      <td>4.0</td>\n",
       "      <td>5.0</td>\n",
       "      <td>5.0</td>\n",
       "      <td>5.0</td>\n",
       "    </tr>\n",
       "    <tr>\n",
       "      <th>American Airlines</th>\n",
       "      <td>19.0</td>\n",
       "      <td>3.263158</td>\n",
       "      <td>1.367971</td>\n",
       "      <td>1.0</td>\n",
       "      <td>2.0</td>\n",
       "      <td>3.0</td>\n",
       "      <td>4.5</td>\n",
       "      <td>5.0</td>\n",
       "    </tr>\n",
       "    <tr>\n",
       "      <th>American Beauty</th>\n",
       "      <td>45.0</td>\n",
       "      <td>4.266667</td>\n",
       "      <td>1.156012</td>\n",
       "      <td>1.0</td>\n",
       "      <td>4.0</td>\n",
       "      <td>5.0</td>\n",
       "      <td>5.0</td>\n",
       "      <td>5.0</td>\n",
       "    </tr>\n",
       "    <tr>\n",
       "      <th>...</th>\n",
       "      <td>...</td>\n",
       "      <td>...</td>\n",
       "      <td>...</td>\n",
       "      <td>...</td>\n",
       "      <td>...</td>\n",
       "      <td>...</td>\n",
       "      <td>...</td>\n",
       "      <td>...</td>\n",
       "    </tr>\n",
       "    <tr>\n",
       "      <th>Wendy's</th>\n",
       "      <td>35.0</td>\n",
       "      <td>3.914286</td>\n",
       "      <td>1.094678</td>\n",
       "      <td>1.0</td>\n",
       "      <td>4.0</td>\n",
       "      <td>4.0</td>\n",
       "      <td>5.0</td>\n",
       "      <td>5.0</td>\n",
       "    </tr>\n",
       "    <tr>\n",
       "      <th>What Lies Beneath</th>\n",
       "      <td>28.0</td>\n",
       "      <td>3.178571</td>\n",
       "      <td>1.278123</td>\n",
       "      <td>1.0</td>\n",
       "      <td>2.0</td>\n",
       "      <td>3.0</td>\n",
       "      <td>4.0</td>\n",
       "      <td>5.0</td>\n",
       "    </tr>\n",
       "    <tr>\n",
       "      <th>X-Men</th>\n",
       "      <td>48.0</td>\n",
       "      <td>4.083333</td>\n",
       "      <td>0.646869</td>\n",
       "      <td>2.0</td>\n",
       "      <td>4.0</td>\n",
       "      <td>4.0</td>\n",
       "      <td>4.0</td>\n",
       "      <td>5.0</td>\n",
       "    </tr>\n",
       "    <tr>\n",
       "      <th>X.com</th>\n",
       "      <td>19.0</td>\n",
       "      <td>3.052632</td>\n",
       "      <td>1.778691</td>\n",
       "      <td>1.0</td>\n",
       "      <td>1.0</td>\n",
       "      <td>3.0</td>\n",
       "      <td>5.0</td>\n",
       "      <td>5.0</td>\n",
       "    </tr>\n",
       "    <tr>\n",
       "      <th>eBay</th>\n",
       "      <td>71.0</td>\n",
       "      <td>4.492958</td>\n",
       "      <td>0.673440</td>\n",
       "      <td>2.0</td>\n",
       "      <td>4.0</td>\n",
       "      <td>5.0</td>\n",
       "      <td>5.0</td>\n",
       "      <td>5.0</td>\n",
       "    </tr>\n",
       "  </tbody>\n",
       "</table>\n",
       "<p>82 rows × 8 columns</p>\n",
       "</div>"
      ],
      "text/plain": [
       "                      count      mean       std  min  25%  50%  75%  max\n",
       "item                                                                    \n",
       "AOL (America Online)   93.0  2.709677  1.410987  1.0  1.0  3.0  4.0  5.0\n",
       "All Advantage          72.0  2.958333  1.656719  1.0  1.0  3.0  5.0  5.0\n",
       "Amazon.com             18.0  4.333333  0.970143  2.0  4.0  5.0  5.0  5.0\n",
       "American Airlines      19.0  3.263158  1.367971  1.0  2.0  3.0  4.5  5.0\n",
       "American Beauty        45.0  4.266667  1.156012  1.0  4.0  5.0  5.0  5.0\n",
       "...                     ...       ...       ...  ...  ...  ...  ...  ...\n",
       "Wendy's                35.0  3.914286  1.094678  1.0  4.0  4.0  5.0  5.0\n",
       "What Lies Beneath      28.0  3.178571  1.278123  1.0  2.0  3.0  4.0  5.0\n",
       "X-Men                  48.0  4.083333  0.646869  2.0  4.0  4.0  4.0  5.0\n",
       "X.com                  19.0  3.052632  1.778691  1.0  1.0  3.0  5.0  5.0\n",
       "eBay                   71.0  4.492958  0.673440  2.0  4.0  5.0  5.0  5.0\n",
       "\n",
       "[82 rows x 8 columns]"
      ]
     },
     "execution_count": 10,
     "metadata": {},
     "output_type": "execute_result"
    }
   ],
   "source": [
    "clean_df.groupby(['item'])['rating'].count().reset_index(name='count')\n",
    "clean_df.groupby(['item'])['rating'].describe()"
   ]
  },
  {
   "cell_type": "markdown",
   "id": "8b2f24aa",
   "metadata": {},
   "source": [
    "## 3. Plotting and Analysis\n",
    "Explore the correlation between gender/helpfulness/category vs ratings; for instance, do female/male users tend to provide higher ratings than male/female users? "
   ]
  },
  {
   "cell_type": "markdown",
   "id": "1462fc59",
   "metadata": {},
   "source": [
    "### Gender x Ratings"
   ]
  },
  {
   "cell_type": "code",
   "execution_count": 11,
   "id": "a3ebb858",
   "metadata": {},
   "outputs": [
    {
     "data": {
      "text/plain": [
       "Text(0, 0.5, 'Rating')"
      ]
     },
     "execution_count": 11,
     "metadata": {},
     "output_type": "execute_result"
    },
    {
     "data": {
      "image/png": "[encoded data removed]",
      "text/plain": [
       "<Figure size 640x480 with 1 Axes>"
      ]
     },
     "metadata": {},
     "output_type": "display_data"
    }
   ],
   "source": [
    "clean_df.boxplot('rating', by = 'gender')\n",
    "plt.title('Relation of Gender x Ratings')\n",
    "plt.xlabel('Gender')\n",
    "plt.ylabel('Rating')"
   ]
  },
  {
   "cell_type": "markdown",
   "id": "16cb64af",
   "metadata": {},
   "source": [
    "### Helpfulness x Ratings"
   ]
  },
  {
   "cell_type": "code",
   "execution_count": 12,
   "id": "d5e59435",
   "metadata": {},
   "outputs": [
    {
     "data": {
      "text/plain": [
       "Text(0, 0.5, 'Rating')"
      ]
     },
     "execution_count": 12,
     "metadata": {},
     "output_type": "execute_result"
    },
    {
     "data": {
      "image/png": "[encoded data removed]",
      "text/plain": [
       "<Figure size 640x480 with 1 Axes>"
      ]
     },
     "metadata": {},
     "output_type": "display_data"
    }
   ],
   "source": [
    "clean_df.boxplot('rating', by = 'helpfulness')\n",
    "plt.xlabel('Helpfulness')\n",
    "plt.ylabel('Rating')"
   ]
  },
  {
   "cell_type": "code",
   "execution_count": 13,
   "id": "3250fad9",
   "metadata": {
    "scrolled": true
   },
   "outputs": [
    {
     "data": {
      "text/plain": [
       "Text(0, 0.5, 'Rating')"
      ]
     },
     "execution_count": 13,
     "metadata": {},
     "output_type": "execute_result"
    },
    {
     "data": {
      "image/png": "[encoded data removed]",
      "text/plain": [
       "<Figure size 640x480 with 1 Axes>"
      ]
     },
     "metadata": {},
     "output_type": "display_data"
    }
   ],
   "source": [
    "# category x ratings\n",
    "clean_df.boxplot('rating', by = 'category')\n",
    "plt.xticks(rotation = 45)\n",
    "plt.xlabel('Category')\n",
    "plt.ylabel('Rating')"
   ]
  },
  {
   "cell_type": "markdown",
   "id": "9f6855f2",
   "metadata": {},
   "source": [
    "### The Analysis Results\n",
    "\n",
    "1) Based on the results above we found that there was no difference in ratings between genders. median rating across Genders was 4.0 with an even and similar spread.\n",
    "2) Based on the results above we found that there was a slight difference in the spread of helpfulness in ratings.  However the median ratings across helpfulness was the same. \n",
    "3) Based on the results above we found that there was variation in category and ratings. Most noteably Media had a slower median (2.0) compared to other groups (~4.0). The median rating across categories was mainly 4.0. Books and games had a higher median (5.0) than other categories."
   ]
  },
  {
   "cell_type": "markdown",
   "id": "9a658edf",
   "metadata": {},
   "source": [
    "## 4. Detect and Remove Outliers\n",
    "\n",
    "We may define outlier users, reviews and items with three rules (if a record meets one of the rules, it is regarded as an outlier):\n",
    "\n",
    "* reviews of which the helpfulness is no more than 2\n",
    "* users who rate less than 7 items\n",
    "* items that receives less than 11 ratings "
   ]
  },
  {
   "cell_type": "code",
   "execution_count": 14,
   "id": "b6f78bfa",
   "metadata": {},
   "outputs": [
    {
     "data": {
      "text/plain": [
       "(2685, 12)"
      ]
     },
     "execution_count": 14,
     "metadata": {},
     "output_type": "execute_result"
    }
   ],
   "source": [
    "clean_df.shape"
   ]
  },
  {
   "cell_type": "code",
   "execution_count": 15,
   "id": "c4418c69",
   "metadata": {},
   "outputs": [
    {
     "data": {
      "text/plain": [
       "(2685, 12)"
      ]
     },
     "execution_count": 15,
     "metadata": {},
     "output_type": "execute_result"
    }
   ],
   "source": [
    "# reviews of which the helpfulness is no more than 2\n",
    "remove_outlier1 = clean_df[clean_df['helpfulness'] > 2]\n",
    "remove_outlier1.shape"
   ]
  },
  {
   "cell_type": "code",
   "execution_count": 16,
   "id": "989bee42",
   "metadata": {},
   "outputs": [],
   "source": [
    "# 1. find each user's rated item count\n",
    "grouped_user_ratings = remove_outlier1.groupby(['userId'])['rating'].count().reset_index(name = 'count')"
   ]
  },
  {
   "cell_type": "code",
   "execution_count": 17,
   "id": "40f45415",
   "metadata": {},
   "outputs": [],
   "source": [
    "# 2. condition against users rated item count < 7\n",
    "condition_less7 = grouped_user_ratings['count'] < 7"
   ]
  },
  {
   "cell_type": "code",
   "execution_count": 18,
   "id": "936b3c0e",
   "metadata": {},
   "outputs": [],
   "source": [
    "# 3. Get a  list of above users \n",
    "list_user_rating_less7 = grouped_user_ratings[condition_less7]['userId'].tolist()"
   ]
  },
  {
   "cell_type": "code",
   "execution_count": 19,
   "id": "c64b7dac",
   "metadata": {},
   "outputs": [
    {
     "data": {
      "text/html": [
       "<div>\n",
       "<style scoped>\n",
       "    .dataframe tbody tr th:only-of-type {\n",
       "        vertical-align: middle;\n",
       "    }\n",
       "\n",
       "    .dataframe tbody tr th {\n",
       "        vertical-align: top;\n",
       "    }\n",
       "\n",
       "    .dataframe thead th {\n",
       "        text-align: right;\n",
       "    }\n",
       "</style>\n",
       "<table border=\"1\" class=\"dataframe\">\n",
       "  <thead>\n",
       "    <tr style=\"text-align: right;\">\n",
       "      <th></th>\n",
       "      <th>Unnamed: 0</th>\n",
       "      <th>userId</th>\n",
       "      <th>timestamp</th>\n",
       "      <th>review</th>\n",
       "      <th>item</th>\n",
       "      <th>rating</th>\n",
       "      <th>helpfulness</th>\n",
       "      <th>gender</th>\n",
       "      <th>category</th>\n",
       "      <th>item_id</th>\n",
       "      <th>item_price</th>\n",
       "      <th>user_city</th>\n",
       "    </tr>\n",
       "  </thead>\n",
       "  <tbody>\n",
       "    <tr>\n",
       "      <th>0</th>\n",
       "      <td>78</td>\n",
       "      <td>4081</td>\n",
       "      <td>71900</td>\n",
       "      <td>Not always McCrap</td>\n",
       "      <td>McDonald's</td>\n",
       "      <td>4.0</td>\n",
       "      <td>3.0</td>\n",
       "      <td>M</td>\n",
       "      <td>Restaurants &amp; Gourmet</td>\n",
       "      <td>41</td>\n",
       "      <td>30.74</td>\n",
       "      <td>4</td>\n",
       "    </tr>\n",
       "    <tr>\n",
       "      <th>1</th>\n",
       "      <td>80</td>\n",
       "      <td>4081</td>\n",
       "      <td>72000</td>\n",
       "      <td>I dropped the chalupa even before he told me to</td>\n",
       "      <td>Taco Bell</td>\n",
       "      <td>1.0</td>\n",
       "      <td>4.0</td>\n",
       "      <td>M</td>\n",
       "      <td>Restaurants &amp; Gourmet</td>\n",
       "      <td>74</td>\n",
       "      <td>108.30</td>\n",
       "      <td>4</td>\n",
       "    </tr>\n",
       "    <tr>\n",
       "      <th>2</th>\n",
       "      <td>81</td>\n",
       "      <td>4081</td>\n",
       "      <td>72000</td>\n",
       "      <td>The Wonderful World of Wendy</td>\n",
       "      <td>Wendy's</td>\n",
       "      <td>5.0</td>\n",
       "      <td>4.0</td>\n",
       "      <td>M</td>\n",
       "      <td>Restaurants &amp; Gourmet</td>\n",
       "      <td>84</td>\n",
       "      <td>69.00</td>\n",
       "      <td>4</td>\n",
       "    </tr>\n",
       "    <tr>\n",
       "      <th>3</th>\n",
       "      <td>82</td>\n",
       "      <td>4081</td>\n",
       "      <td>100399</td>\n",
       "      <td>They actually did it</td>\n",
       "      <td>South Park: Bigger, Longer &amp; Uncut</td>\n",
       "      <td>5.0</td>\n",
       "      <td>3.0</td>\n",
       "      <td>M</td>\n",
       "      <td>Movies</td>\n",
       "      <td>68</td>\n",
       "      <td>143.11</td>\n",
       "      <td>4</td>\n",
       "    </tr>\n",
       "    <tr>\n",
       "      <th>4</th>\n",
       "      <td>83</td>\n",
       "      <td>4081</td>\n",
       "      <td>100399</td>\n",
       "      <td>Hey! Gimme some pie!</td>\n",
       "      <td>American Pie</td>\n",
       "      <td>3.0</td>\n",
       "      <td>3.0</td>\n",
       "      <td>M</td>\n",
       "      <td>Movies</td>\n",
       "      <td>6</td>\n",
       "      <td>117.89</td>\n",
       "      <td>4</td>\n",
       "    </tr>\n",
       "    <tr>\n",
       "      <th>...</th>\n",
       "      <td>...</td>\n",
       "      <td>...</td>\n",
       "      <td>...</td>\n",
       "      <td>...</td>\n",
       "      <td>...</td>\n",
       "      <td>...</td>\n",
       "      <td>...</td>\n",
       "      <td>...</td>\n",
       "      <td>...</td>\n",
       "      <td>...</td>\n",
       "      <td>...</td>\n",
       "      <td>...</td>\n",
       "    </tr>\n",
       "    <tr>\n",
       "      <th>2680</th>\n",
       "      <td>19983</td>\n",
       "      <td>2445</td>\n",
       "      <td>22000</td>\n",
       "      <td>Great movie!</td>\n",
       "      <td>Austin Powers: The Spy Who Shagged Me</td>\n",
       "      <td>5.0</td>\n",
       "      <td>3.0</td>\n",
       "      <td>M</td>\n",
       "      <td>Movies</td>\n",
       "      <td>9</td>\n",
       "      <td>111.00</td>\n",
       "      <td>5</td>\n",
       "    </tr>\n",
       "    <tr>\n",
       "      <th>2681</th>\n",
       "      <td>19985</td>\n",
       "      <td>2445</td>\n",
       "      <td>30700</td>\n",
       "      <td>Good food!</td>\n",
       "      <td>Outback Steakhouse</td>\n",
       "      <td>5.0</td>\n",
       "      <td>3.0</td>\n",
       "      <td>M</td>\n",
       "      <td>Restaurants &amp; Gourmet</td>\n",
       "      <td>50</td>\n",
       "      <td>25.00</td>\n",
       "      <td>5</td>\n",
       "    </tr>\n",
       "    <tr>\n",
       "      <th>2682</th>\n",
       "      <td>19988</td>\n",
       "      <td>2445</td>\n",
       "      <td>61500</td>\n",
       "      <td>Great movie!</td>\n",
       "      <td>Fight Club</td>\n",
       "      <td>5.0</td>\n",
       "      <td>3.0</td>\n",
       "      <td>M</td>\n",
       "      <td>Movies</td>\n",
       "      <td>26</td>\n",
       "      <td>97.53</td>\n",
       "      <td>5</td>\n",
       "    </tr>\n",
       "    <tr>\n",
       "      <th>2683</th>\n",
       "      <td>19989</td>\n",
       "      <td>2445</td>\n",
       "      <td>100500</td>\n",
       "      <td>Awesome Game.</td>\n",
       "      <td>The Sims 2: Open for Business for Windows</td>\n",
       "      <td>5.0</td>\n",
       "      <td>4.0</td>\n",
       "      <td>M</td>\n",
       "      <td>Games</td>\n",
       "      <td>79</td>\n",
       "      <td>27.00</td>\n",
       "      <td>5</td>\n",
       "    </tr>\n",
       "    <tr>\n",
       "      <th>2684</th>\n",
       "      <td>19990</td>\n",
       "      <td>2445</td>\n",
       "      <td>101400</td>\n",
       "      <td>Great Service.</td>\n",
       "      <td>PayPal</td>\n",
       "      <td>5.0</td>\n",
       "      <td>3.0</td>\n",
       "      <td>M</td>\n",
       "      <td>Personal Finance</td>\n",
       "      <td>52</td>\n",
       "      <td>38.00</td>\n",
       "      <td>5</td>\n",
       "    </tr>\n",
       "  </tbody>\n",
       "</table>\n",
       "<p>2590 rows × 12 columns</p>\n",
       "</div>"
      ],
      "text/plain": [
       "      Unnamed: 0  userId  timestamp  \\\n",
       "0             78    4081      71900   \n",
       "1             80    4081      72000   \n",
       "2             81    4081      72000   \n",
       "3             82    4081     100399   \n",
       "4             83    4081     100399   \n",
       "...          ...     ...        ...   \n",
       "2680       19983    2445      22000   \n",
       "2681       19985    2445      30700   \n",
       "2682       19988    2445      61500   \n",
       "2683       19989    2445     100500   \n",
       "2684       19990    2445     101400   \n",
       "\n",
       "                                               review  \\\n",
       "0                                   Not always McCrap   \n",
       "1     I dropped the chalupa even before he told me to   \n",
       "2                        The Wonderful World of Wendy   \n",
       "3                                They actually did it   \n",
       "4                                Hey! Gimme some pie!   \n",
       "...                                               ...   \n",
       "2680                                     Great movie!   \n",
       "2681                                       Good food!   \n",
       "2682                                     Great movie!   \n",
       "2683                                    Awesome Game.   \n",
       "2684                                   Great Service.   \n",
       "\n",
       "                                           item  rating  helpfulness gender  \\\n",
       "0                                    McDonald's     4.0          3.0      M   \n",
       "1                                     Taco Bell     1.0          4.0      M   \n",
       "2                                       Wendy's     5.0          4.0      M   \n",
       "3            South Park: Bigger, Longer & Uncut     5.0          3.0      M   \n",
       "4                                  American Pie     3.0          3.0      M   \n",
       "...                                         ...     ...          ...    ...   \n",
       "2680      Austin Powers: The Spy Who Shagged Me     5.0          3.0      M   \n",
       "2681                         Outback Steakhouse     5.0          3.0      M   \n",
       "2682                                 Fight Club     5.0          3.0      M   \n",
       "2683  The Sims 2: Open for Business for Windows     5.0          4.0      M   \n",
       "2684                                     PayPal     5.0          3.0      M   \n",
       "\n",
       "                   category  item_id  item_price  user_city  \n",
       "0     Restaurants & Gourmet       41       30.74          4  \n",
       "1     Restaurants & Gourmet       74      108.30          4  \n",
       "2     Restaurants & Gourmet       84       69.00          4  \n",
       "3                    Movies       68      143.11          4  \n",
       "4                    Movies        6      117.89          4  \n",
       "...                     ...      ...         ...        ...  \n",
       "2680                 Movies        9      111.00          5  \n",
       "2681  Restaurants & Gourmet       50       25.00          5  \n",
       "2682                 Movies       26       97.53          5  \n",
       "2683                  Games       79       27.00          5  \n",
       "2684       Personal Finance       52       38.00          5  \n",
       "\n",
       "[2590 rows x 12 columns]"
      ]
     },
     "execution_count": 19,
     "metadata": {},
     "output_type": "execute_result"
    }
   ],
   "source": [
    "# 4. Remove rows where userId exists in above list \n",
    "remove_outliers2 = remove_outlier1.drop(remove_outlier1.index[remove_outlier1['userId'].isin(list_user_rating_less7)])\n",
    "remove_outliers2"
   ]
  },
  {
   "cell_type": "code",
   "execution_count": 20,
   "id": "451aafe7",
   "metadata": {},
   "outputs": [
    {
     "data": {
      "text/plain": [
       "(2590, 12)"
      ]
     },
     "execution_count": 20,
     "metadata": {},
     "output_type": "execute_result"
    }
   ],
   "source": [
    "remove_outliers2.shape"
   ]
  },
  {
   "cell_type": "code",
   "execution_count": 21,
   "id": "4b5730b7",
   "metadata": {},
   "outputs": [],
   "source": [
    "# 1. find each items rating count\n",
    "grouped_item_ratings = remove_outliers2.groupby(['item_id'])['rating'].count().reset_index(name = 'count')"
   ]
  },
  {
   "cell_type": "code",
   "execution_count": 22,
   "id": "813f98a8",
   "metadata": {},
   "outputs": [],
   "source": [
    "# 2. condition against items rated count < 11\n",
    "condition_less11 = grouped_item_ratings['count'] < 11"
   ]
  },
  {
   "cell_type": "code",
   "execution_count": 23,
   "id": "67ef4461",
   "metadata": {},
   "outputs": [],
   "source": [
    "# 3. Get a  list of above users \n",
    "list_item_rating_less11 = grouped_item_ratings[condition_less11]['item_id'].tolist()"
   ]
  },
  {
   "cell_type": "code",
   "execution_count": 24,
   "id": "86d6e364",
   "metadata": {
    "scrolled": true
   },
   "outputs": [
    {
     "data": {
      "text/html": [
       "<div>\n",
       "<style scoped>\n",
       "    .dataframe tbody tr th:only-of-type {\n",
       "        vertical-align: middle;\n",
       "    }\n",
       "\n",
       "    .dataframe tbody tr th {\n",
       "        vertical-align: top;\n",
       "    }\n",
       "\n",
       "    .dataframe thead th {\n",
       "        text-align: right;\n",
       "    }\n",
       "</style>\n",
       "<table border=\"1\" class=\"dataframe\">\n",
       "  <thead>\n",
       "    <tr style=\"text-align: right;\">\n",
       "      <th></th>\n",
       "      <th>Unnamed: 0</th>\n",
       "      <th>userId</th>\n",
       "      <th>timestamp</th>\n",
       "      <th>review</th>\n",
       "      <th>item</th>\n",
       "      <th>rating</th>\n",
       "      <th>helpfulness</th>\n",
       "      <th>gender</th>\n",
       "      <th>category</th>\n",
       "      <th>item_id</th>\n",
       "      <th>item_price</th>\n",
       "      <th>user_city</th>\n",
       "    </tr>\n",
       "  </thead>\n",
       "  <tbody>\n",
       "    <tr>\n",
       "      <th>0</th>\n",
       "      <td>78</td>\n",
       "      <td>4081</td>\n",
       "      <td>71900</td>\n",
       "      <td>Not always McCrap</td>\n",
       "      <td>McDonald's</td>\n",
       "      <td>4.0</td>\n",
       "      <td>3.0</td>\n",
       "      <td>M</td>\n",
       "      <td>Restaurants &amp; Gourmet</td>\n",
       "      <td>41</td>\n",
       "      <td>30.74</td>\n",
       "      <td>4</td>\n",
       "    </tr>\n",
       "    <tr>\n",
       "      <th>1</th>\n",
       "      <td>80</td>\n",
       "      <td>4081</td>\n",
       "      <td>72000</td>\n",
       "      <td>I dropped the chalupa even before he told me to</td>\n",
       "      <td>Taco Bell</td>\n",
       "      <td>1.0</td>\n",
       "      <td>4.0</td>\n",
       "      <td>M</td>\n",
       "      <td>Restaurants &amp; Gourmet</td>\n",
       "      <td>74</td>\n",
       "      <td>108.30</td>\n",
       "      <td>4</td>\n",
       "    </tr>\n",
       "    <tr>\n",
       "      <th>2</th>\n",
       "      <td>81</td>\n",
       "      <td>4081</td>\n",
       "      <td>72000</td>\n",
       "      <td>The Wonderful World of Wendy</td>\n",
       "      <td>Wendy's</td>\n",
       "      <td>5.0</td>\n",
       "      <td>4.0</td>\n",
       "      <td>M</td>\n",
       "      <td>Restaurants &amp; Gourmet</td>\n",
       "      <td>84</td>\n",
       "      <td>69.00</td>\n",
       "      <td>4</td>\n",
       "    </tr>\n",
       "    <tr>\n",
       "      <th>3</th>\n",
       "      <td>82</td>\n",
       "      <td>4081</td>\n",
       "      <td>100399</td>\n",
       "      <td>They actually did it</td>\n",
       "      <td>South Park: Bigger, Longer &amp; Uncut</td>\n",
       "      <td>5.0</td>\n",
       "      <td>3.0</td>\n",
       "      <td>M</td>\n",
       "      <td>Movies</td>\n",
       "      <td>68</td>\n",
       "      <td>143.11</td>\n",
       "      <td>4</td>\n",
       "    </tr>\n",
       "    <tr>\n",
       "      <th>4</th>\n",
       "      <td>83</td>\n",
       "      <td>4081</td>\n",
       "      <td>100399</td>\n",
       "      <td>Hey! Gimme some pie!</td>\n",
       "      <td>American Pie</td>\n",
       "      <td>3.0</td>\n",
       "      <td>3.0</td>\n",
       "      <td>M</td>\n",
       "      <td>Movies</td>\n",
       "      <td>6</td>\n",
       "      <td>117.89</td>\n",
       "      <td>4</td>\n",
       "    </tr>\n",
       "    <tr>\n",
       "      <th>...</th>\n",
       "      <td>...</td>\n",
       "      <td>...</td>\n",
       "      <td>...</td>\n",
       "      <td>...</td>\n",
       "      <td>...</td>\n",
       "      <td>...</td>\n",
       "      <td>...</td>\n",
       "      <td>...</td>\n",
       "      <td>...</td>\n",
       "      <td>...</td>\n",
       "      <td>...</td>\n",
       "      <td>...</td>\n",
       "    </tr>\n",
       "    <tr>\n",
       "      <th>2680</th>\n",
       "      <td>19983</td>\n",
       "      <td>2445</td>\n",
       "      <td>22000</td>\n",
       "      <td>Great movie!</td>\n",
       "      <td>Austin Powers: The Spy Who Shagged Me</td>\n",
       "      <td>5.0</td>\n",
       "      <td>3.0</td>\n",
       "      <td>M</td>\n",
       "      <td>Movies</td>\n",
       "      <td>9</td>\n",
       "      <td>111.00</td>\n",
       "      <td>5</td>\n",
       "    </tr>\n",
       "    <tr>\n",
       "      <th>2681</th>\n",
       "      <td>19985</td>\n",
       "      <td>2445</td>\n",
       "      <td>30700</td>\n",
       "      <td>Good food!</td>\n",
       "      <td>Outback Steakhouse</td>\n",
       "      <td>5.0</td>\n",
       "      <td>3.0</td>\n",
       "      <td>M</td>\n",
       "      <td>Restaurants &amp; Gourmet</td>\n",
       "      <td>50</td>\n",
       "      <td>25.00</td>\n",
       "      <td>5</td>\n",
       "    </tr>\n",
       "    <tr>\n",
       "      <th>2682</th>\n",
       "      <td>19988</td>\n",
       "      <td>2445</td>\n",
       "      <td>61500</td>\n",
       "      <td>Great movie!</td>\n",
       "      <td>Fight Club</td>\n",
       "      <td>5.0</td>\n",
       "      <td>3.0</td>\n",
       "      <td>M</td>\n",
       "      <td>Movies</td>\n",
       "      <td>26</td>\n",
       "      <td>97.53</td>\n",
       "      <td>5</td>\n",
       "    </tr>\n",
       "    <tr>\n",
       "      <th>2683</th>\n",
       "      <td>19989</td>\n",
       "      <td>2445</td>\n",
       "      <td>100500</td>\n",
       "      <td>Awesome Game.</td>\n",
       "      <td>The Sims 2: Open for Business for Windows</td>\n",
       "      <td>5.0</td>\n",
       "      <td>4.0</td>\n",
       "      <td>M</td>\n",
       "      <td>Games</td>\n",
       "      <td>79</td>\n",
       "      <td>27.00</td>\n",
       "      <td>5</td>\n",
       "    </tr>\n",
       "    <tr>\n",
       "      <th>2684</th>\n",
       "      <td>19990</td>\n",
       "      <td>2445</td>\n",
       "      <td>101400</td>\n",
       "      <td>Great Service.</td>\n",
       "      <td>PayPal</td>\n",
       "      <td>5.0</td>\n",
       "      <td>3.0</td>\n",
       "      <td>M</td>\n",
       "      <td>Personal Finance</td>\n",
       "      <td>52</td>\n",
       "      <td>38.00</td>\n",
       "      <td>5</td>\n",
       "    </tr>\n",
       "  </tbody>\n",
       "</table>\n",
       "<p>2571 rows × 12 columns</p>\n",
       "</div>"
      ],
      "text/plain": [
       "      Unnamed: 0  userId  timestamp  \\\n",
       "0             78    4081      71900   \n",
       "1             80    4081      72000   \n",
       "2             81    4081      72000   \n",
       "3             82    4081     100399   \n",
       "4             83    4081     100399   \n",
       "...          ...     ...        ...   \n",
       "2680       19983    2445      22000   \n",
       "2681       19985    2445      30700   \n",
       "2682       19988    2445      61500   \n",
       "2683       19989    2445     100500   \n",
       "2684       19990    2445     101400   \n",
       "\n",
       "                                               review  \\\n",
       "0                                   Not always McCrap   \n",
       "1     I dropped the chalupa even before he told me to   \n",
       "2                        The Wonderful World of Wendy   \n",
       "3                                They actually did it   \n",
       "4                                Hey! Gimme some pie!   \n",
       "...                                               ...   \n",
       "2680                                     Great movie!   \n",
       "2681                                       Good food!   \n",
       "2682                                     Great movie!   \n",
       "2683                                    Awesome Game.   \n",
       "2684                                   Great Service.   \n",
       "\n",
       "                                           item  rating  helpfulness gender  \\\n",
       "0                                    McDonald's     4.0          3.0      M   \n",
       "1                                     Taco Bell     1.0          4.0      M   \n",
       "2                                       Wendy's     5.0          4.0      M   \n",
       "3            South Park: Bigger, Longer & Uncut     5.0          3.0      M   \n",
       "4                                  American Pie     3.0          3.0      M   \n",
       "...                                         ...     ...          ...    ...   \n",
       "2680      Austin Powers: The Spy Who Shagged Me     5.0          3.0      M   \n",
       "2681                         Outback Steakhouse     5.0          3.0      M   \n",
       "2682                                 Fight Club     5.0          3.0      M   \n",
       "2683  The Sims 2: Open for Business for Windows     5.0          4.0      M   \n",
       "2684                                     PayPal     5.0          3.0      M   \n",
       "\n",
       "                   category  item_id  item_price  user_city  \n",
       "0     Restaurants & Gourmet       41       30.74          4  \n",
       "1     Restaurants & Gourmet       74      108.30          4  \n",
       "2     Restaurants & Gourmet       84       69.00          4  \n",
       "3                    Movies       68      143.11          4  \n",
       "4                    Movies        6      117.89          4  \n",
       "...                     ...      ...         ...        ...  \n",
       "2680                 Movies        9      111.00          5  \n",
       "2681  Restaurants & Gourmet       50       25.00          5  \n",
       "2682                 Movies       26       97.53          5  \n",
       "2683                  Games       79       27.00          5  \n",
       "2684       Personal Finance       52       38.00          5  \n",
       "\n",
       "[2571 rows x 12 columns]"
      ]
     },
     "execution_count": 24,
     "metadata": {},
     "output_type": "execute_result"
    }
   ],
   "source": [
    "# Remove rows where item_id exists in above list \n",
    "remove_outliers3 = remove_outliers2.drop(remove_outliers2.index[remove_outliers2['item_id'].isin(list_item_rating_less11)])\n",
    "remove_outliers3"
   ]
  },
  {
   "cell_type": "code",
   "execution_count": 25,
   "id": "3c119f63",
   "metadata": {},
   "outputs": [
    {
     "name": "stdout",
     "output_type": "stream",
     "text": [
      "2571\n"
     ]
    }
   ],
   "source": [
    "remove_outliers3.to_csv('The E-commerce Dataset.csv')\n",
    "print(len(remove_outliers3))"
   ]
  }
 ],
 "metadata": {
  "kernelspec": {
   "display_name": "Python 3 (ipykernel)",
   "language": "python",
   "name": "python3"
  },
  "language_info": {
   "codemirror_mode": {
    "name": "ipython",
    "version": 3
   },
   "file_extension": ".py",
   "mimetype": "text/x-python",
   "name": "python",
   "nbconvert_exporter": "python",
   "pygments_lexer": "ipython3",
   "version": "3.11.3"
  }
 },
 "nbformat": 4,
 "nbformat_minor": 5
}
